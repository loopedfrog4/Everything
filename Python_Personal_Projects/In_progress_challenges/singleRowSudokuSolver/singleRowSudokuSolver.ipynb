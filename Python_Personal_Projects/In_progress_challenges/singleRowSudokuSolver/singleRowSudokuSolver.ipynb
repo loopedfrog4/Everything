{
 "cells": [
  {
   "cell_type": "code",
   "execution_count": 6,
   "metadata": {},
   "outputs": [
    {
     "ename": "IndexError",
     "evalue": "list index out of range",
     "output_type": "error",
     "traceback": [
      "\u001b[1;31m---------------------------------------------------------------------------\u001b[0m",
      "\u001b[1;31mIndexError\u001b[0m                                Traceback (most recent call last)",
      "\u001b[1;32mc:\\Everything\\Python_Personal_Projects\\singleRowSudokuSolver.ipynb Cell 1'\u001b[0m in \u001b[0;36m<module>\u001b[1;34m\u001b[0m\n\u001b[0;32m     <a href='vscode-notebook-cell:/c%3A/Everything/Python_Personal_Projects/singleRowSudokuSolver.ipynb#ch0000000?line=11'>12</a>\u001b[0m     \u001b[39mreturn\u001b[39;00m completedRow\n\u001b[0;32m     <a href='vscode-notebook-cell:/c%3A/Everything/Python_Personal_Projects/singleRowSudokuSolver.ipynb#ch0000000?line=14'>15</a>\u001b[0m row \u001b[39m=\u001b[39m [\u001b[39m5\u001b[39m,\u001b[39m3\u001b[39m,\u001b[39m0\u001b[39m,\u001b[39m0\u001b[39m,\u001b[39m7\u001b[39m,\u001b[39m0\u001b[39m,\u001b[39m0\u001b[39m,\u001b[39m0\u001b[39m,\u001b[39m0\u001b[39m]\n\u001b[1;32m---> <a href='vscode-notebook-cell:/c%3A/Everything/Python_Personal_Projects/singleRowSudokuSolver.ipynb#ch0000000?line=15'>16</a>\u001b[0m \u001b[39mprint\u001b[39m(solveOneRow(row))\n",
      "\u001b[1;32mc:\\Everything\\Python_Personal_Projects\\singleRowSudokuSolver.ipynb Cell 1'\u001b[0m in \u001b[0;36msolveOneRow\u001b[1;34m(incompleteRow)\u001b[0m\n\u001b[0;32m      <a href='vscode-notebook-cell:/c%3A/Everything/Python_Personal_Projects/singleRowSudokuSolver.ipynb#ch0000000?line=5'>6</a>\u001b[0m \u001b[39m# Loop through entire row, remove existing value from possible pool of numbers\u001b[39;00m\n\u001b[0;32m      <a href='vscode-notebook-cell:/c%3A/Everything/Python_Personal_Projects/singleRowSudokuSolver.ipynb#ch0000000?line=6'>7</a>\u001b[0m \u001b[39mfor\u001b[39;00m i \u001b[39min\u001b[39;00m \u001b[39mrange\u001b[39m(\u001b[39m0\u001b[39m,\u001b[39m10\u001b[39m):\n\u001b[1;32m----> <a href='vscode-notebook-cell:/c%3A/Everything/Python_Personal_Projects/singleRowSudokuSolver.ipynb#ch0000000?line=7'>8</a>\u001b[0m     \u001b[39mif\u001b[39;00m completedRow[i] \u001b[39min\u001b[39;00m possibleNumbers:\n\u001b[0;32m      <a href='vscode-notebook-cell:/c%3A/Everything/Python_Personal_Projects/singleRowSudokuSolver.ipynb#ch0000000?line=8'>9</a>\u001b[0m         possibleNumbers\u001b[39m.\u001b[39mremove(completedRow[i])\n\u001b[0;32m     <a href='vscode-notebook-cell:/c%3A/Everything/Python_Personal_Projects/singleRowSudokuSolver.ipynb#ch0000000?line=9'>10</a>\u001b[0m         completedRow[i] \u001b[39m=\u001b[39m possibleNumbers[i]\n",
      "\u001b[1;31mIndexError\u001b[0m: list index out of range"
     ]
    }
   ],
   "source": [
    "# Functions returns all possible solutions given one incomplete row\n",
    "def solveOneRow(incompleteRow):\n",
    "    completedRow = incompleteRow\n",
    "    possibleNumbers = [1,2,3,4,5,6,7,8,9]\n",
    "\n",
    "    # Loop through entire row, remove existing value from possible pool of numbers\n",
    "    for i in range(0,10):\n",
    "        if completedRow[i] in possibleNumbers:\n",
    "            possibleNumbers.remove(completedRow[i])\n",
    "            completedRow[i] = possibleNumbers[i]\n",
    "        \n",
    "    return completedRow\n",
    "    \n",
    "\n",
    "row = [5,3,0,0,7,0,0,0,0]\n",
    "print(solveOneRow(row))\n"
   ]
  }
 ],
 "metadata": {
  "interpreter": {
   "hash": "e94778876cb88ae73a7f3c122c803f8466cab158653a0e2aebc19ed0ec18e69a"
  },
  "kernelspec": {
   "display_name": "Python 3.9.10 64-bit (windows store)",
   "language": "python",
   "name": "python3"
  },
  "language_info": {
   "codemirror_mode": {
    "name": "ipython",
    "version": 3
   },
   "file_extension": ".py",
   "mimetype": "text/x-python",
   "name": "python",
   "nbconvert_exporter": "python",
   "pygments_lexer": "ipython3",
   "version": "3.9.10"
  },
  "orig_nbformat": 4
 },
 "nbformat": 4,
 "nbformat_minor": 2
}
