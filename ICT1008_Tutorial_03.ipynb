{
  "nbformat": 4,
  "nbformat_minor": 0,
  "metadata": {
    "colab": {
      "name": "ICT1008 Tutorial 03.ipynb",
      "provenance": [],
      "collapsed_sections": [],
      "include_colab_link": true
    },
    "kernelspec": {
      "name": "python3",
      "display_name": "Python 3"
    }
  },
  "cells": [
    {
      "cell_type": "markdown",
      "metadata": {
        "id": "view-in-github",
        "colab_type": "text"
      },
      "source": [
        "<a href=\"https://colab.research.google.com/github/loopedfrog4/my_1008/blob/master/ICT1008_Tutorial_03.ipynb\" target=\"_parent\"><img src=\"https://colab.research.google.com/assets/colab-badge.svg\" alt=\"Open In Colab\"/></a>"
      ]
    },
    {
      "cell_type": "markdown",
      "metadata": {
        "id": "hr1jdvxIANKi"
      },
      "source": [
        "### Question 1\n",
        "\n",
        "A  sorting  method  with  “Big-Oh”  complexity  $O(𝑛𝑙𝑜𝑔_{10}n)$  spends  exactly  1 millisecond to sort 1,000 data items. Assuming that time $T(𝑛)$ of sorting $n$ items is directly proportional to $𝑛𝑙𝑜𝑔_{10}n$, that is, $T(n) = (c𝑛𝑙𝑜𝑔_{10}n)$, where $c$ is a constant. Derive a formula for $T(𝑛)$, given the time $T(N)$ for sorting $N$ items, and estimate how long this method will sort 1,000,000 items.\n"
      ]
    },
    {
      "cell_type": "markdown",
      "metadata": {
        "id": "qkA516D-ARQ5"
      },
      "source": [
        "### Question 2\n",
        "\n",
        "A quadratic algorithm with processing time $T(𝑛) = cn^2$ spends $T(N)$ seconds for processing $N$ data items. How much time will be spent for processing $n$ = 5000 data items, assuming that $N$ = 100 and $T(N)$ = 1ms? "
      ]
    },
    {
      "cell_type": "markdown",
      "metadata": {
        "id": "1lreS1VzAmu_"
      },
      "source": [
        "### Question 3\n",
        "\n",
        "Assume that each of the expressions below gives the processing time $T(n)$ spent by an algorithm for solving a problem of size $n$. Select the dominant term(s) having the  steepest  increase  in $n$ and  specify  the  lowest  Big-Oh  complexity  of  each algorithm. \n",
        "\n",
        "|Expression | Dominant term(s) | Big-Oh complexity |\n",
        "|-|-|-|\n",
        "|5+0.0001$𝑛^3$+0.025$𝑛$ |  |  |\n",
        "|500$n$+100$n^{1.5}$ + 50$nlog_{10}n$ |  |  |\n",
        "|0.3n + 5$n^{1.5}$ + 2.5$n^{1.75}$ |  |  |\n",
        "|$n^2log_2n$+$n(log_2n)^2$ |  |  |\n",
        "|$nlog_3n$ + $nlog_2n$ |  |  |\n",
        "|100$nlog_3n$ + $n^3$ + 100$n$ |  |  |\n"
      ]
    },
    {
      "cell_type": "markdown",
      "metadata": {
        "id": "mPlVlBkhAscS"
      },
      "source": [
        "### Question 4\n",
        "\n",
        "The statements below show some features of “Big-Oh” notation for the functions $f(n)$ and $g(n)$. Determine whether each statement is TRUE or FALSE and correct the formula in the latter case. \n",
        "\n",
        "|Statement | True or False | if False, what is correct formula |\n",
        "|-|-|-|\n",
        "|$O(f+g)$ = $O(f)$ + $O(g)$ |  |  |\n",
        "|$O(f*g)$ = $O(f)$ * $O(g)$ |  |  |\n",
        "|$5n$ + $8n^2$ + $100n^3$ = $O(n^4)$ |  |  |\n",
        "|$5n$ + $8n^2$ + $100n^3$ = $O(n^2logn)$ |  |  |\n",
        "\n"
      ]
    },
    {
      "cell_type": "markdown",
      "metadata": {
        "id": "wbjVQf7CCtcp"
      },
      "source": [
        "### Question 5\n",
        "\n",
        "Prove that $T(n) = 5 + 7n + 2n^2 + 9n^3$ is $O(n^3)$ using the formal definition of the Big-Oh notation. Hint: Find a constant $c$ and threshold $n_0$ such that $cn^3 \\geq T(n)$ for $n \\geq n_0$. "
      ]
    },
    {
      "cell_type": "markdown",
      "metadata": {
        "id": "UJFzpKSICvwn"
      },
      "source": [
        "### Question 6\n",
        "\n",
        "Algorithms  A  and  B  spend  exactly $T_A(n) = c_Anlog_2n$ and $T_B(n)=c_Bn^2$ microseconds, respectively, for a problem of size n. Find the best algorithm for processing $n = 2^{20}$ data  items  if  the  algorithm  A  spends  10  microseconds  to process 1024 items and the algorithm B spends only 1 microsecond to process 1024 items. "
      ]
    },
    {
      "cell_type": "markdown",
      "metadata": {
        "id": "JP-ym2onCxp4"
      },
      "source": [
        "### Question 7\n",
        "\n",
        "Find the computational complexity of the following piece of code using Big-oh notation (RAM Model is not required):"
      ]
    },
    {
      "cell_type": "markdown",
      "metadata": {
        "id": "Dip2blqIJXWI"
      },
      "source": [
        "#### 7a\n",
        "```\n",
        "for (int i = n; i > 0; i /= 2) {\n",
        "  for (int j = 1; j < n; j *=2) {\n",
        "    for (int k = 0; k < n; k += 2) {\n",
        "      // constant number of operations\n",
        "    }  \n",
        "  }\n",
        "}\n",
        "```"
      ]
    },
    {
      "cell_type": "markdown",
      "metadata": {
        "id": "aC_b253GJYVk"
      },
      "source": [
        "#### 7b\n",
        "```\n",
        "for (int i = 1; i < n; i *= 2) {\n",
        "  for (int j = n; j > 0; j /=2) {\n",
        "    for (int k = j; k < n; k += 2) {\n",
        "      sum += (i + j * k);\n",
        "    }  \n",
        "  }\n",
        "}\n",
        "```\n"
      ]
    },
    {
      "cell_type": "markdown",
      "metadata": {
        "id": "EXwIEQMPJmQg"
      },
      "source": [
        "#### 7c\n",
        "\n",
        "Find the computational complexity of the following piece of code assuming that $n = 2^m$:\n",
        "\n",
        "```\n",
        "for (int i = n; i > 0; i-- ) {\n",
        "  for (int j = 1; j < n; j *=2) {\n",
        "    for (int k = 0; k < j; k++) {\n",
        "      // constant number of operations\n",
        "    }  \n",
        "  }\n",
        "}\n",
        "```\n"
      ]
    },
    {
      "cell_type": "code",
      "metadata": {
        "id": "xVCr3qWYCp22"
      },
      "source": [
        ""
      ],
      "execution_count": null,
      "outputs": []
    }
  ]
}