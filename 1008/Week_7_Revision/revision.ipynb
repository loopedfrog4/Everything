{
 "cells": [
  {
   "cell_type": "code",
   "execution_count": 9,
   "metadata": {},
   "outputs": [
    {
     "data": {
      "text/plain": [
       "14.6"
      ]
     },
     "execution_count": 9,
     "metadata": {},
     "output_type": "execute_result"
    }
   ],
   "source": [
    "# done\n",
    "# naive algorithm for knapsack problem\n",
    "import numpy as np\n",
    "\n",
    "def naive_knapsack(cap,wt,val,n):\n",
    "    density = np.array(val) / np.array(wt)\n",
    "    \n",
    "    t_sort = np.argsort(density)[::-1]\n",
    "    density = np.array(density)[t_sort]\n",
    "    wt = np.array(wt)[t_sort]\n",
    "    val = np.array(val)[t_sort]\n",
    "    \n",
    "    return_val = 0\n",
    "    index = 0\n",
    "\n",
    "    while cap > 0: #while there's space to add items\n",
    "        if cap >= wt[index]: #if the current(and the whole of) item in the space can considered to add into the truck\n",
    "            cap -= wt[index]\n",
    "            return_val += val[index]\n",
    "        else: # means the full item cannot fit into the truck, so must take fractional\n",
    "            return_val += cap * density[index]\n",
    "            cap = 0\n",
    "        index += 1 # go to next item in list\n",
    "    return return_val\n",
    "\n",
    "val = [4,3,10]\n",
    "wt = [5,3,5]\n",
    "# density = [0.8, 1, 2]\n",
    "capacity = 10\n",
    "naive_knapsack(capacity, wt, val, len(wt))"
   ]
  },
  {
   "cell_type": "code",
   "execution_count": 3,
   "metadata": {},
   "outputs": [
    {
     "data": {
      "text/plain": [
       "14"
      ]
     },
     "execution_count": 3,
     "metadata": {},
     "output_type": "execute_result"
    }
   ],
   "source": [
    "# done\n",
    "def dp_knapsack(cap,wt,val,n):\n",
    "    array = [[0] * (cap+1) for i in range(n+1)] \n",
    "    \n",
    "    for i in range(n, -1, -1): # iterate from right to left\n",
    "        for currentCap in range(0, cap+1): # iterate down the rows from Capacity: 0 to Capacity to 10 (so 11 times total)\n",
    "            if currentCap < wt[i-1]: # if current capacity of truck is less than currently considered item\n",
    "                array[i-1][currentCap] = array[i][currentCap] # cannot take item, so take state of the right side\n",
    "            else: # capacity is bigger than the currently cn't take the currently considered item so take state at rightonsidered item, so take OR don't take\n",
    "                array[i-1][currentCap] = max(array[i][currentCap], val[i-1] + array[i][currentCap - wt[i-1]])\n",
    "                #                        ^ do\n",
    "                #                                                  ^ take ( currently considered item + the state of right after removing the weight of the currently considered item)\n",
    "    return array[0][cap]\n",
    "\n",
    "\n",
    "capacity = 10\n",
    "val = [4,3,10]\n",
    "wt = [5,3,5]\n",
    "\n",
    "# capacity = 50\n",
    "# val = [60, 100, 120]\n",
    "# wt = [10, 20, 30]\n",
    " \n",
    "dp_knapsack(capacity, wt, val, len(val))"
   ]
  },
  {
   "cell_type": "code",
   "execution_count": 1,
   "metadata": {},
   "outputs": [
    {
     "data": {
      "text/plain": [
       "14.6"
      ]
     },
     "execution_count": 1,
     "metadata": {},
     "output_type": "execute_result"
    }
   ],
   "source": [
    "# naive knapsack\n",
    "import numpy as np\n",
    "\n",
    "def naive_knapsack(c, wt, val, n):\n",
    "    density =  np.array(val) / np.array(wt)\n",
    "\n",
    "    t_sort = np.argsort(density)[::-1]\n",
    "    density = np.array(density)[t_sort]\n",
    "    wt = np.array(wt)[t_sort]\n",
    "    val = np.array(val)[t_sort]\n",
    "\n",
    "    return_val = 0\n",
    "    index = 0\n",
    "\n",
    "    while c > 0:\n",
    "        if c >= wt[index]:\n",
    "            c -= wt[index]\n",
    "            return_val += val[index]\n",
    "        else:\n",
    "            return_val += c * density[index]\n",
    "            c = 0\n",
    "        index += 1\n",
    "\n",
    "    return return_val\n",
    "    \n",
    "capacity = 10\n",
    "val = [4,3,10]\n",
    "wt = [5,3,5]\n",
    "\n",
    "naive_knapsack(capacity, wt, val, len(wt))"
   ]
  },
  {
   "cell_type": "code",
   "execution_count": 2,
   "metadata": {},
   "outputs": [
    {
     "data": {
      "text/plain": [
       "14"
      ]
     },
     "execution_count": 2,
     "metadata": {},
     "output_type": "execute_result"
    }
   ],
   "source": [
    "# 0/1 knapsack\n",
    "\n",
    "def dp_knapsack(c, wt, val, n):\n",
    "\n",
    "    array = [[0] * (c+1) for i in range(n+1)]     \n",
    "    \n",
    "    for i in range(n,-1,-1):\n",
    "        for currentcap in range(c+1):\n",
    "            if currentcap < wt[i-1]:\n",
    "                array[i-1][currentcap] = array[i][currentcap]\n",
    "            else:\n",
    "                array[i-1][currentcap] = max(array[i][currentcap], val[i-1] + array[i][currentcap - wt[i-1]])\n",
    "\n",
    "\n",
    "    return array[0][c]\n",
    "\n",
    "capacity = 10\n",
    "val = [4,3,10]\n",
    "wt = [5,3,5]  \n",
    "\n",
    "# capacity = 50\n",
    "# val = [60, 100, 120]\n",
    "# wt = [10, 20, 30]\n",
    " \n",
    "dp_knapsack(capacity, wt, val, len(val))"
   ]
  },
  {
   "cell_type": "code",
   "execution_count": 10,
   "metadata": {},
   "outputs": [
    {
     "name": "stdout",
     "output_type": "stream",
     "text": [
      "\n",
      "\n",
      "[1, 0, 0, 0, 0]\n",
      "[0, 0, 1, 0, 0]\n",
      "[0, 0, 0, 0, 1]\n",
      "[0, 1, 0, 0, 0]\n",
      "[0, 0, 0, 1, 0]\n",
      "\n",
      "\n",
      "[1, 0, 0, 0, 0]\n",
      "[0, 0, 0, 1, 0]\n",
      "[0, 1, 0, 0, 0]\n",
      "[0, 0, 0, 0, 1]\n",
      "[0, 0, 1, 0, 0]\n",
      "\n",
      "\n",
      "[0, 1, 0, 0, 0]\n",
      "[0, 0, 0, 1, 0]\n",
      "[1, 0, 0, 0, 0]\n",
      "[0, 0, 1, 0, 0]\n",
      "[0, 0, 0, 0, 1]\n",
      "\n",
      "\n",
      "[0, 1, 0, 0, 0]\n",
      "[0, 0, 0, 0, 1]\n",
      "[0, 0, 1, 0, 0]\n",
      "[1, 0, 0, 0, 0]\n",
      "[0, 0, 0, 1, 0]\n",
      "\n",
      "\n",
      "[0, 0, 1, 0, 0]\n",
      "[1, 0, 0, 0, 0]\n",
      "[0, 0, 0, 1, 0]\n",
      "[0, 1, 0, 0, 0]\n",
      "[0, 0, 0, 0, 1]\n",
      "\n",
      "\n",
      "[0, 0, 1, 0, 0]\n",
      "[0, 0, 0, 0, 1]\n",
      "[0, 1, 0, 0, 0]\n",
      "[0, 0, 0, 1, 0]\n",
      "[1, 0, 0, 0, 0]\n",
      "\n",
      "\n",
      "[0, 0, 0, 1, 0]\n",
      "[1, 0, 0, 0, 0]\n",
      "[0, 0, 1, 0, 0]\n",
      "[0, 0, 0, 0, 1]\n",
      "[0, 1, 0, 0, 0]\n",
      "\n",
      "\n",
      "[0, 0, 0, 1, 0]\n",
      "[0, 1, 0, 0, 0]\n",
      "[0, 0, 0, 0, 1]\n",
      "[0, 0, 1, 0, 0]\n",
      "[1, 0, 0, 0, 0]\n",
      "\n",
      "\n",
      "[0, 0, 0, 0, 1]\n",
      "[0, 1, 0, 0, 0]\n",
      "[0, 0, 0, 1, 0]\n",
      "[1, 0, 0, 0, 0]\n",
      "[0, 0, 1, 0, 0]\n",
      "\n",
      "\n",
      "[0, 0, 0, 0, 1]\n",
      "[0, 0, 1, 0, 0]\n",
      "[1, 0, 0, 0, 0]\n",
      "[0, 0, 0, 1, 0]\n",
      "[0, 1, 0, 0, 0]\n"
     ]
    }
   ],
   "source": [
    "# n-queen problem\n",
    "def isValid(row, col, chessBoard):\n",
    "    n = len(chessBoard)\n",
    "    for i in range(row):\n",
    "        if chessBoard[i][col] == 1:\n",
    "            return False\n",
    "\n",
    "    r = row - 1\n",
    "    c = col - 1\n",
    "    while (r >= 0 and c >= 0):\n",
    "        if chessBoard[r][c] == 1:\n",
    "            return False\n",
    "        r -= 1\n",
    "        c -= 1\n",
    "    \n",
    "    r = row - 1\n",
    "    c = col + 1\n",
    "    while (r >= 0 and c < n):\n",
    "        if chessBoard[r][c] == 1:\n",
    "            return False\n",
    "        r -= 1\n",
    "        c += 1\n",
    "    return True\n",
    "\n",
    "def printSolution(chessBoard):\n",
    "    print(\"\\n\")\n",
    "    for i in range(len(chessBoard)):\n",
    "        print(chessBoard[i])\n",
    "\n",
    "def putAQueen(row,chessBoard):\n",
    "    N = len(chessBoard)\n",
    "\n",
    "    for col in range(N):\n",
    "        if isValid(row,col, chessBoard):\n",
    "            chessBoard[row][col] = 1\n",
    "            if (row < N-1):\n",
    "                putAQueen(row+1,chessBoard)\n",
    "            else:\n",
    "                printSolution(chessBoard)\n",
    "                chessBoard[row][col] = 0\n",
    "                return\n",
    "            chessBoard[row][col] = 0\n",
    "\n",
    "\n",
    "N = 5\n",
    "chessBoard = [[0] * N for i in range(N)]\n",
    "\n",
    "putAQueen(0, chessBoard)"
   ]
  }
 ],
 "metadata": {
  "interpreter": {
   "hash": "e94778876cb88ae73a7f3c122c803f8466cab158653a0e2aebc19ed0ec18e69a"
  },
  "kernelspec": {
   "display_name": "Python 3.9.10 64-bit (windows store)",
   "language": "python",
   "name": "python3"
  },
  "language_info": {
   "codemirror_mode": {
    "name": "ipython",
    "version": 3
   },
   "file_extension": ".py",
   "mimetype": "text/x-python",
   "name": "python",
   "nbconvert_exporter": "python",
   "pygments_lexer": "ipython3",
   "version": "3.9.10"
  },
  "orig_nbformat": 4
 },
 "nbformat": 4,
 "nbformat_minor": 2
}
