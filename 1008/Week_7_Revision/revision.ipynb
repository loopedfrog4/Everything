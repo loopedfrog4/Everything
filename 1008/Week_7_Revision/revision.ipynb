{
 "cells": [
  {
   "cell_type": "code",
   "execution_count": 9,
   "metadata": {},
   "outputs": [
    {
     "data": {
      "text/plain": [
       "14.6"
      ]
     },
     "execution_count": 9,
     "metadata": {},
     "output_type": "execute_result"
    }
   ],
   "source": [
    "# done\n",
    "# naive algorithm for knapsack problem\n",
    "import numpy as np\n",
    "\n",
    "def naive_knapsack(cap,wt,val,n):\n",
    "    density = np.array(val) / np.array(wt)\n",
    "    \n",
    "    t_sort = np.argsort(density)[::-1]\n",
    "    density = np.array(density)[t_sort]\n",
    "    wt = np.array(wt)[t_sort]\n",
    "    val = np.array(val)[t_sort]\n",
    "    \n",
    "    return_val = 0\n",
    "    index = 0\n",
    "\n",
    "    while cap > 0: #while there's space to add items\n",
    "        if cap >= wt[index]: #if the current(and the whole of) item in the space can considered to add into the truck\n",
    "            cap -= wt[index]\n",
    "            return_val += val[index]\n",
    "        else: # means the full item cannot fit into the truck, so must take fractional\n",
    "            return_val += cap * density[index]\n",
    "            cap = 0\n",
    "        index += 1 # go to next item in list\n",
    "    return return_val\n",
    "\n",
    "val = [4,3,10]\n",
    "wt = [5,3,5]\n",
    "# density = [0.8, 1, 2]\n",
    "capacity = 10\n",
    "naive_knapsack(capacity, wt, val, len(wt))"
   ]
  },
  {
   "cell_type": "code",
   "execution_count": 3,
   "metadata": {},
   "outputs": [
    {
     "data": {
      "text/plain": [
       "14"
      ]
     },
     "execution_count": 3,
     "metadata": {},
     "output_type": "execute_result"
    }
   ],
   "source": [
    "# done\n",
    "def dp_knapsack(cap,wt,val,n):\n",
    "    array = [[0] * (cap+1) for i in range(n+1)] \n",
    "    \n",
    "    for i in range(n, -1, -1): # iterate from right to left\n",
    "        for currentCap in range(0, cap+1): # iterate down the rows from Capacity: 0 to Capacity to 10 (so 11 times total)\n",
    "            if currentCap < wt[i-1]: # if current capacity of truck is less than currently considered item\n",
    "                array[i-1][currentCap] = array[i][currentCap] # cannot take item, so take state of the right side\n",
    "            else: # capacity is bigger than the currently cn't take the currently considered item so take state at rightonsidered item, so take OR don't take\n",
    "                array[i-1][currentCap] = max(array[i][currentCap], val[i-1] + array[i][currentCap - wt[i-1]])\n",
    "                #                        ^ do\n",
    "                #                                                  ^ take ( currently considered item + the state of right after removing the weight of the currently considered item)\n",
    "    return array[0][cap]\n",
    "\n",
    "\n",
    "capacity = 10\n",
    "val = [4,3,10]\n",
    "wt = [5,3,5]\n",
    "\n",
    "# capacity = 50\n",
    "# val = [60, 100, 120]\n",
    "# wt = [10, 20, 30]\n",
    " \n",
    "dp_knapsack(capacity, wt, val, len(val))"
   ]
  },
  {
   "cell_type": "code",
   "execution_count": 1,
   "metadata": {},
   "outputs": [
    {
     "data": {
      "text/plain": [
       "14.6"
      ]
     },
     "execution_count": 1,
     "metadata": {},
     "output_type": "execute_result"
    }
   ],
   "source": [
    "# naive knapsack\n",
    "import numpy as np\n",
    "\n",
    "def naive_knapsack(c, wt, val, n):\n",
    "    density =  np.array(val) / np.array(wt)\n",
    "\n",
    "    t_sort = np.argsort(density)[::-1]\n",
    "    density = np.array(density)[t_sort]\n",
    "    wt = np.array(wt)[t_sort]\n",
    "    val = np.array(val)[t_sort]\n",
    "\n",
    "    return_val = 0\n",
    "    index = 0\n",
    "\n",
    "    while c > 0:\n",
    "        if c >= wt[index]:\n",
    "            c -= wt[index]\n",
    "            return_val += val[index]\n",
    "        else:\n",
    "            return_val += c * density[index]\n",
    "            c = 0\n",
    "        index += 1\n",
    "\n",
    "    return return_val\n",
    "    \n",
    "capacity = 10\n",
    "val = [4,3,10]\n",
    "wt = [5,3,5]\n",
    "\n",
    "naive_knapsack(capacity, wt, val, len(wt))"
   ]
  },
  {
   "cell_type": "code",
   "execution_count": 2,
   "metadata": {},
   "outputs": [
    {
     "data": {
      "text/plain": [
       "14"
      ]
     },
     "execution_count": 2,
     "metadata": {},
     "output_type": "execute_result"
    }
   ],
   "source": [
    "# 0/1 knapsack\n",
    "\n",
    "def dp_knapsack(c, wt, val, n):\n",
    "\n",
    "    array = [[0] * (c+1) for i in range(n+1)]     \n",
    "    \n",
    "    for i in range(n,-1,-1):\n",
    "        for currentcap in range(c+1):\n",
    "            if currentcap < wt[i-1]:\n",
    "                array[i-1][currentcap] = array[i][currentcap]\n",
    "            else:\n",
    "                array[i-1][currentcap] = max(array[i][currentcap], val[i-1] + array[i][currentcap - wt[i-1]])\n",
    "\n",
    "\n",
    "    return array[0][c]\n",
    "\n",
    "capacity = 10\n",
    "val = [4,3,10]\n",
    "wt = [5,3,5]  \n",
    "\n",
    "# capacity = 50\n",
    "# val = [60, 100, 120]\n",
    "# wt = [10, 20, 30]\n",
    " \n",
    "dp_knapsack(capacity, wt, val, len(val))"
   ]
  },
  {
   "cell_type": "code",
   "execution_count": 10,
   "metadata": {},
   "outputs": [
    {
     "name": "stdout",
     "output_type": "stream",
     "text": [
      "\n",
      "\n",
      "[1, 0, 0, 0, 0]\n",
      "[0, 0, 1, 0, 0]\n",
      "[0, 0, 0, 0, 1]\n",
      "[0, 1, 0, 0, 0]\n",
      "[0, 0, 0, 1, 0]\n",
      "\n",
      "\n",
      "[1, 0, 0, 0, 0]\n",
      "[0, 0, 0, 1, 0]\n",
      "[0, 1, 0, 0, 0]\n",
      "[0, 0, 0, 0, 1]\n",
      "[0, 0, 1, 0, 0]\n",
      "\n",
      "\n",
      "[0, 1, 0, 0, 0]\n",
      "[0, 0, 0, 1, 0]\n",
      "[1, 0, 0, 0, 0]\n",
      "[0, 0, 1, 0, 0]\n",
      "[0, 0, 0, 0, 1]\n",
      "\n",
      "\n",
      "[0, 1, 0, 0, 0]\n",
      "[0, 0, 0, 0, 1]\n",
      "[0, 0, 1, 0, 0]\n",
      "[1, 0, 0, 0, 0]\n",
      "[0, 0, 0, 1, 0]\n",
      "\n",
      "\n",
      "[0, 0, 1, 0, 0]\n",
      "[1, 0, 0, 0, 0]\n",
      "[0, 0, 0, 1, 0]\n",
      "[0, 1, 0, 0, 0]\n",
      "[0, 0, 0, 0, 1]\n",
      "\n",
      "\n",
      "[0, 0, 1, 0, 0]\n",
      "[0, 0, 0, 0, 1]\n",
      "[0, 1, 0, 0, 0]\n",
      "[0, 0, 0, 1, 0]\n",
      "[1, 0, 0, 0, 0]\n",
      "\n",
      "\n",
      "[0, 0, 0, 1, 0]\n",
      "[1, 0, 0, 0, 0]\n",
      "[0, 0, 1, 0, 0]\n",
      "[0, 0, 0, 0, 1]\n",
      "[0, 1, 0, 0, 0]\n",
      "\n",
      "\n",
      "[0, 0, 0, 1, 0]\n",
      "[0, 1, 0, 0, 0]\n",
      "[0, 0, 0, 0, 1]\n",
      "[0, 0, 1, 0, 0]\n",
      "[1, 0, 0, 0, 0]\n",
      "\n",
      "\n",
      "[0, 0, 0, 0, 1]\n",
      "[0, 1, 0, 0, 0]\n",
      "[0, 0, 0, 1, 0]\n",
      "[1, 0, 0, 0, 0]\n",
      "[0, 0, 1, 0, 0]\n",
      "\n",
      "\n",
      "[0, 0, 0, 0, 1]\n",
      "[0, 0, 1, 0, 0]\n",
      "[1, 0, 0, 0, 0]\n",
      "[0, 0, 0, 1, 0]\n",
      "[0, 1, 0, 0, 0]\n"
     ]
    }
   ],
   "source": [
    "# n-queen problem\n",
    "def isValid(row, col, chessBoard):\n",
    "    n = len(chessBoard)\n",
    "    for i in range(row):\n",
    "        if chessBoard[i][col] == 1:\n",
    "            return False\n",
    "\n",
    "    r = row - 1\n",
    "    c = col - 1\n",
    "    while (r >= 0 and c >= 0):\n",
    "        if chessBoard[r][c] == 1:\n",
    "            return False\n",
    "        r -= 1\n",
    "        c -= 1\n",
    "    \n",
    "    r = row - 1\n",
    "    c = col + 1\n",
    "    while (r >= 0 and c < n):\n",
    "        if chessBoard[r][c] == 1:\n",
    "            return False\n",
    "        r -= 1\n",
    "        c += 1\n",
    "    return True\n",
    "\n",
    "def printSolution(chessBoard):\n",
    "    print(\"\\n\")\n",
    "    for i in range(len(chessBoard)):\n",
    "        print(chessBoard[i])\n",
    "\n",
    "def putAQueen(row,chessBoard):\n",
    "    N = len(chessBoard)\n",
    "\n",
    "    for col in range(N):\n",
    "        if isValid(row,col, chessBoard):\n",
    "            chessBoard[row][col] = 1\n",
    "            if (row < N-1):\n",
    "                putAQueen(row+1,chessBoard)\n",
    "            else:\n",
    "                printSolution(chessBoard)\n",
    "                chessBoard[row][col] = 0\n",
    "                return\n",
    "            chessBoard[row][col] = 0\n",
    "\n",
    "\n",
    "N = 5\n",
    "chessBoard = [[0] * N for i in range(N)]\n",
    "\n",
    "putAQueen(0, chessBoard)"
   ]
  },
  {
   "cell_type": "code",
   "execution_count": 4,
   "metadata": {},
   "outputs": [],
   "source": [
    "# printBitString\n",
    "def printBitString(n, w):\n",
    "    if n == 0:\n",
    "        print(w)\n",
    "    else:\n",
    "        printBitString(n-1, w+\"0\")\n",
    "        printBitString(n-1, w+\"1\")\n",
    "\n",
    "printBitString(2,\"\")"
   ]
  },
  {
   "cell_type": "code",
   "execution_count": 5,
   "metadata": {},
   "outputs": [
    {
     "name": "stdout",
     "output_type": "stream",
     "text": [
      "1.1666666666666667\n"
     ]
    }
   ],
   "source": [
    "# add the first n terms of the series: 1 + 1/2 - 1/3 + 1/4 - 1/5\n",
    "def sum(n):\n",
    "    if n==1:\n",
    "        return 1.0\n",
    "    else:\n",
    "        if n%2==0:\n",
    "            return sum(n-1) + 1.0/n\n",
    "        else:\n",
    "            return sum(n-1) - 1.0/n\n",
    "\n",
    "print(sum(3))"
   ]
  },
  {
   "cell_type": "code",
   "execution_count": 9,
   "metadata": {},
   "outputs": [
    {
     "data": {
      "text/plain": [
       "3"
      ]
     },
     "execution_count": 9,
     "metadata": {},
     "output_type": "execute_result"
    }
   ],
   "source": [
    "# gcd(n,m)\n",
    "def gcd(n,m):\n",
    "    if (n % m == 0):\n",
    "        return m\n",
    "    else:\n",
    "        return gcd(m, n%m)\n",
    "\n",
    "gcd(123,36)\n"
   ]
  },
  {
   "cell_type": "code",
   "execution_count": 13,
   "metadata": {},
   "outputs": [
    {
     "name": "stdout",
     "output_type": "stream",
     "text": [
      "blewasiereisawelb\n",
      "lewasiereisawel\n",
      "ewasiereisawe\n",
      "wasiereisaw\n",
      "asiereisa\n",
      "siereis\n",
      "ierei\n",
      "ere\n",
      "r\n",
      "True\n"
     ]
    }
   ],
   "source": [
    "# checkPalindrome\n",
    "def checkPalindrome(w):\n",
    "    if len(w) < 2:\n",
    "        return True\n",
    "    if w[0] != w[-1]:\n",
    "        return False\n",
    "    return checkPalindrome(w[1:-1])\n",
    "\n",
    "\n",
    "print(checkPalindrome(\"ablewasiereisawelba\"))"
   ]
  },
  {
   "cell_type": "code",
   "execution_count": 9,
   "metadata": {},
   "outputs": [
    {
     "data": {
      "text/plain": [
       "'Stack is empty'"
      ]
     },
     "execution_count": 9,
     "metadata": {},
     "output_type": "execute_result"
    }
   ],
   "source": [
    "class Stack:\n",
    "    def __init__(self):\n",
    "        self.data = []\n",
    "        self.top = -1\n",
    "    def push(self,value):\n",
    "        self.data.append(value)\n",
    "        self.top += 1\n",
    "    def pop(self):\n",
    "        if self.isEmpty():\n",
    "            return \"Stack is empty\"\n",
    "        else:\n",
    "            temp = self.data[self.top]\n",
    "            del self.data[self.top]\n",
    "            return temp\n",
    "    def isEmpty(self):\n",
    "        if self.top <= -1 or self.data == []:\n",
    "            return True\n",
    "        else:\n",
    "            return False\n",
    "    def peek(self):\n",
    "        if self.isEmpty():\n",
    "            return \"Stack is empty\"\n",
    "        else:\n",
    "            return self.data[self.top]\n",
    "    def printStack(self):\n",
    "        if self.isEmpty():\n",
    "            return \"Stack is empty\"\n",
    "        else:\n",
    "            print(self.data)\n",
    "\n",
    "s = Stack()\n",
    "\n",
    "s.printStack()"
   ]
  },
  {
   "cell_type": "code",
   "execution_count": 39,
   "metadata": {},
   "outputs": [
    {
     "name": "stdout",
     "output_type": "stream",
     "text": [
      "Head is 235\n",
      "235\n",
      "4\n"
     ]
    }
   ],
   "source": [
    "class SinglyLinkedList:\n",
    "    def __init__(self):\n",
    "        self.head = None\n",
    "\n",
    "    def insertAtHead(self, value):\n",
    "        if self.head is None:\n",
    "            self.head = value\n",
    "        else:\n",
    "            value.next = self.head\n",
    "            self.head = value\n",
    "\n",
    "    def printList(self):\n",
    "        temp = self.head\n",
    "        print(f\"Head is {temp.data}\")\n",
    "        while temp != None:\n",
    "            print(temp.data)\n",
    "            temp = temp.next\n",
    "\n",
    "    def search(self, index):\n",
    "        counter = 0\n",
    "        temp = self.head\n",
    "        \n",
    "\n",
    "        while temp != None and counter < index:\n",
    "            temp = temp.next\n",
    "            counter += 1\n",
    "\n",
    "        if temp is None:\n",
    "            print ('invalid index')\n",
    "        else:\n",
    "            return temp\n",
    "\n",
    "    def deleteAtHead(self):\n",
    "        temp = self.head\n",
    "        self.head = self.head.next\n",
    "        del temp\n",
    "\n",
    "    def delete(self,value):\n",
    "        prev = None\n",
    "        temp = self.head\n",
    "\n",
    "        while temp != None and temp.data != value:\n",
    "            prev = temp\n",
    "            temp = temp.next\n",
    "        if temp == self.head:\n",
    "            self.deleteAtHead()\n",
    "\n",
    "        if temp.data == value:\n",
    "            prev.next = temp.next\n",
    "            del temp\n",
    "        else:\n",
    "            print(f\"{value} cannot be found\")\n",
    "            \n",
    "        \n",
    "\n",
    "class SinglyLinkedListNode:\n",
    "    def __init__(self, value):\n",
    "        self.data = value\n",
    "        self.next = None\n",
    "\n",
    "\n",
    "list = SinglyLinkedList()\n",
    "n1 = SinglyLinkedListNode(4)\n",
    "n2 = SinglyLinkedListNode(436)\n",
    "n3 = SinglyLinkedListNode(235)\n",
    "list.insertAtHead(n1)\n",
    "list.insertAtHead(n2)\n",
    "list.insertAtHead(n3)\n",
    "list.delete(436)\n",
    "list.printList()"
   ]
  },
  {
   "cell_type": "code",
   "execution_count": 41,
   "metadata": {},
   "outputs": [
    {
     "name": "stdout",
     "output_type": "stream",
     "text": [
      "256\n"
     ]
    }
   ],
   "source": [
    "# fast exponentiation\n",
    "def power(a,n):\n",
    "    if n==0:\n",
    "        return 1\n",
    "    answer = power(a, (int)(n/2))\n",
    "    if n % 2 == 0:\n",
    "        return answer * answer\n",
    "    else:\n",
    "        return answer * answer * a\n",
    "\n",
    "print(power(4,4))\n"
   ]
  },
  {
   "cell_type": "code",
   "execution_count": 43,
   "metadata": {},
   "outputs": [
    {
     "name": "stdout",
     "output_type": "stream",
     "text": [
      "9\n"
     ]
    }
   ],
   "source": [
    "def bi_search(array, lo, hi, ele):\n",
    "\n",
    "    if lo > hi:\n",
    "        return -1\n",
    "    \n",
    "    mid = (int)((lo + hi) / 2)\n",
    "\n",
    "    if array[mid] > ele:\n",
    "        return bi_search(array, lo, mid - 1, ele)\n",
    "    elif array[mid] < ele:\n",
    "        return bi_search(array, mid+1, hi, ele)\n",
    "    else:\n",
    "        return mid\n",
    "\n",
    "array = [6, 13, 14, 25, 33, 43, 51, 53, 63, 72]\n",
    "print(bi_search(array,0, len(array) - 1, 72))\n",
    "\n"
   ]
  },
  {
   "cell_type": "code",
   "execution_count": 11,
   "metadata": {},
   "outputs": [
    {
     "name": "stdout",
     "output_type": "stream",
     "text": [
      "3\n"
     ]
    }
   ],
   "source": [
    "# mouse in a maze backtracking\n",
    "\n",
    "def navigateMaze(maze):\n",
    "    startPos = maze[0][0]\n",
    "    \n",
    "# 0 means dead end\n",
    "maze = [\n",
    "    [1, 0, 0, 0],\n",
    "    [1, 1, 0, 1],\n",
    "    [0, 1, 0, 0],\n",
    "    [1, 1, 1, 1],\n",
    "]\n",
    "\n",
    "navigateMaze(maze)\n"
   ]
  }
 ],
 "metadata": {
  "interpreter": {
   "hash": "e94778876cb88ae73a7f3c122c803f8466cab158653a0e2aebc19ed0ec18e69a"
  },
  "kernelspec": {
   "display_name": "Python 3.9.10 64-bit (windows store)",
   "language": "python",
   "name": "python3"
  },
  "language_info": {
   "codemirror_mode": {
    "name": "ipython",
    "version": 3
   },
   "file_extension": ".py",
   "mimetype": "text/x-python",
   "name": "python",
   "nbconvert_exporter": "python",
   "pygments_lexer": "ipython3",
   "version": "3.9.10"
  },
  "orig_nbformat": 4
 },
 "nbformat": 4,
 "nbformat_minor": 2
}
