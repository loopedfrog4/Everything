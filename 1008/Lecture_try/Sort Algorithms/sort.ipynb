{
 "cells": [
  {
   "cell_type": "code",
   "execution_count": 7,
   "metadata": {},
   "outputs": [
    {
     "name": "stdout",
     "output_type": "stream",
     "text": [
      "[17, 20, 26, 31, 44, 54, 55, 77, 93]\n"
     ]
    }
   ],
   "source": [
    "# done and correct\n",
    "def bubbleSort(array):\n",
    "    for i in range(len(array)-1,0,-1):\n",
    "        for j in range(0,i,1):\n",
    "            if array[j] > array[j+1]:\n",
    "                temp = array[j]\n",
    "                array[j] = array[j+1]\n",
    "                array[j+1] = temp\n",
    "\n",
    "# done and correct\n",
    "def select_sort(array):\n",
    "    for i in range(0,len(array)):\n",
    "        minPos = i\n",
    "        for j in range(i+1, len(array)):\n",
    "            if array[minPos] > array[j]:\n",
    "                minPos = j\n",
    "        temp = array[minPos]\n",
    "        array[minPos] = array[i]\n",
    "        array[i] = temp\n",
    "\n",
    "def insert_sort(array):\n",
    "    pass\n",
    "array = [54, 26, 93, 17, 77, 31, 44, 55, 20]\n",
    "# bubbleSort(array)\n",
    "# select_sort(array)\n",
    "insert_sort(array)\n",
    "print(array)"
   ]
  }
 ],
 "metadata": {
  "interpreter": {
   "hash": "e94778876cb88ae73a7f3c122c803f8466cab158653a0e2aebc19ed0ec18e69a"
  },
  "kernelspec": {
   "display_name": "Python 3.9.10 64-bit (windows store)",
   "language": "python",
   "name": "python3"
  },
  "language_info": {
   "codemirror_mode": {
    "name": "ipython",
    "version": 3
   },
   "file_extension": ".py",
   "mimetype": "text/x-python",
   "name": "python",
   "nbconvert_exporter": "python",
   "pygments_lexer": "ipython3",
   "version": "3.9.10"
  },
  "orig_nbformat": 4
 },
 "nbformat": 4,
 "nbformat_minor": 2
}
