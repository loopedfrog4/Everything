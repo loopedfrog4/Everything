{
 "cells": [
  {
   "cell_type": "code",
   "execution_count": 8,
   "metadata": {},
   "outputs": [
    {
     "name": "stdout",
     "output_type": "stream",
     "text": [
      "[17, 20, 26, 31, 44, 54, 55, 77, 93]\n"
     ]
    }
   ],
   "source": [
    "# done and correct\n",
    "def bubbleSort(array):\n",
    "    for i in range(len(array)-1,0,-1):\n",
    "        for j in range(0,i,1):\n",
    "            if array[j] > array[j+1]:\n",
    "                temp = array[j]\n",
    "                array[j] = array[j+1]\n",
    "                array[j+1] = temp\n",
    "\n",
    "# done and correct\n",
    "def select_sort(array):\n",
    "    for i in range(0,len(array)):\n",
    "        minPos = i\n",
    "        for j in range(i+1, len(array)):\n",
    "            if array[minPos] > array[j]:\n",
    "                minPos = j\n",
    "        temp = array[minPos]\n",
    "        array[minPos] = array[i]\n",
    "        array[i] = temp\n",
    "\n",
    "def insert_sort(array):\n",
    "    pass\n",
    "array = [54, 26, 93, 17, 77, 31, 44, 55, 20]\n",
    "# bubbleSort(array)\n",
    "# select_sort(array)\n",
    "select_sort(array)\n",
    "print(array)"
   ]
  },
  {
   "cell_type": "code",
   "execution_count": 7,
   "metadata": {},
   "outputs": [
    {
     "name": "stdout",
     "output_type": "stream",
     "text": [
      "[54, 26, 93, 17]\n",
      "[77, 31, 44, 55, 20]\n",
      "\n",
      "\n",
      "[54, 26]\n",
      "[93, 17]\n",
      "\n",
      "\n",
      "[77, 31]\n",
      "[44, 55, 20]\n",
      "\n",
      "\n"
     ]
    }
   ],
   "source": [
    "# self attempted and correct\n",
    "def bubbleSort(arr):\n",
    "    counter = 0\n",
    "    n = len(arr)\n",
    "    for i in range(n-1, 0, -1):\n",
    "        for j in range(0,i):\n",
    "            counter += 1\n",
    "            if arr[j] >= arr[j+1]:\n",
    "                \n",
    "                temp = arr[j]\n",
    "                arr[j] = arr[j+1]\n",
    "                arr[j+1] = temp\n",
    "    print(counter)\n",
    "\n",
    "# self attempted and correct\n",
    "def selectSort(arr):\n",
    "    counter = 0\n",
    "    n = len(arr)\n",
    "    for i in range(n):\n",
    "        minPos = i\n",
    "        for j in range(i+1, n):\n",
    "            counter += 1\n",
    "            if arr[minPos] > arr[j]:\n",
    "                minPos = j\n",
    "        temp = arr[minPos]\n",
    "        arr[minPos] = arr[i]\n",
    "        arr[i] = temp\n",
    "    print(counter)\n",
    "\n",
    "# correct\n",
    "def insertSort(arr):\n",
    "    counter = 0\n",
    "    for i in range(1, len(arr)):\n",
    "        currentVal = arr[i]\n",
    "        pos = i\n",
    "\n",
    "        \n",
    "        while pos > 0 and arr[pos-1] > currentVal:\n",
    "            counter += 1\n",
    "            arr[pos] = arr[pos-1]\n",
    "            pos = pos - 1\n",
    "\n",
    "        arr[pos] = currentVal\n",
    "\n",
    "    print(counter)\n",
    "\n",
    "def mergeSort(arr):\n",
    "    n = (int) (len(arr) / 2)\n",
    "\n",
    "    if n == 1:\n",
    "        return arr\n",
    "\n",
    "    firstHalf = arr[0:n]\n",
    "    secondHalf = arr[n:len(arr)]\n",
    "    \n",
    "    print(firstHalf)\n",
    "    print(secondHalf)\n",
    "    print(\"\\n\")\n",
    "\n",
    "    firstHalf = mergeSort(firstHalf)\n",
    "    secondHalf = mergeSort(secondHalf)\n",
    "\n",
    "def merge(a,b):\n",
    "    pass\n",
    "arr = [4,6,1,7,3,5]\n",
    "array = [54, 26, 93, 17, 77, 31, 44, 55, 20]\n",
    "mergeSort(array)\n",
    "# print(arr)"
   ]
  }
 ],
 "metadata": {
  "interpreter": {
   "hash": "e94778876cb88ae73a7f3c122c803f8466cab158653a0e2aebc19ed0ec18e69a"
  },
  "kernelspec": {
   "display_name": "Python 3.9.10 64-bit (windows store)",
   "language": "python",
   "name": "python3"
  },
  "language_info": {
   "codemirror_mode": {
    "name": "ipython",
    "version": 3
   },
   "file_extension": ".py",
   "mimetype": "text/x-python",
   "name": "python",
   "nbconvert_exporter": "python",
   "pygments_lexer": "ipython3",
   "version": "3.9.10"
  },
  "orig_nbformat": 4
 },
 "nbformat": 4,
 "nbformat_minor": 2
}
