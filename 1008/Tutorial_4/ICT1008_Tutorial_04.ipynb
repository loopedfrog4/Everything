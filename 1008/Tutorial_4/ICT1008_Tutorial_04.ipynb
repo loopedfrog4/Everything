{
  "cells": [
    {
      "cell_type": "markdown",
      "metadata": {
        "id": "rIDf8AP5UIvA"
      },
      "source": [
        "### Question 1\n",
        "\n",
        "Write a program using recursion such that when given input n, then program will generate all length n binary bitsstrings in increasing order.\n",
        "\n",
        "e.g. n=2,\n",
        "\n",
        "output: 00,01,10,11\n",
        "\n",
        "n=3,\n",
        "\n",
        "output: 000,001,010,011,100,101,110,111\n",
        "\n",
        "Hint:\n",
        "\n",
        "printBitString(0,\"0\") should just print \"0\"\n",
        "\n",
        "printBitString(0,\"1\") should just print \"1\"\n",
        "\n",
        "printBitString(2,\"\") should print \"10\" and \"11\" etc\n",
        "\n",
        "Example:Enter the number of bits to print: 4\n",
        "\n",
        "The list of 4 bit binary strings are: 0000 0001 0010 0011 0100 0101 0110 0111 1000 1001 1010 1011 1100 11011110 1111"
      ]
    },
    {
      "cell_type": "code",
      "execution_count": null,
      "metadata": {},
      "outputs": [],
      "source": [
        "# Answer\n",
        "def printBitString(n,w):\n",
        "    if n == 0:\n",
        "        print(w)\n",
        "    else:\n",
        "        printBitString(n-1, w+\"0\")\n",
        "        printBitString(n-1, w+\"1\")\n",
        "\n",
        "printBitString(6,\"\")\n"
      ]
    },
    {
      "cell_type": "code",
      "execution_count": 1,
      "metadata": {},
      "outputs": [],
      "source": [
        "# attempt\n",
        "def printBitString(n, w):\n",
        "    if n == 0:\n",
        "        print(w)\n",
        "    printBitString(n-1, w+\"0\")\n",
        "    printBitString(n-1, w+\"1\")\n",
        "\n",
        "printBitString(2, \"\")"
      ]
    },
    {
      "cell_type": "markdown",
      "metadata": {
        "id": "MYo4FDWrUzBK"
      },
      "source": [
        "### Question 2\n",
        "\n",
        "Write a recursive function to add the first n terms of the series: 1 + 1/2 - 1/3 + 1/4 - 1/5 ...\n",
        "\n",
        "Keep the answer to four decimal places.\n",
        "\n",
        "Example: Enter the number of terms to sum: 5 Sum of first 5 terms = 1.2167\n",
        "\n"
      ]
    },
    {
      "cell_type": "code",
      "execution_count": 2,
      "metadata": {},
      "outputs": [
        {
          "name": "stdout",
          "output_type": "stream",
          "text": [
            "1.3833333333333335\n"
          ]
        }
      ],
      "source": [
        "def sum(n):\n",
        "    if n==1:\n",
        "        return 1.0\n",
        "    else:\n",
        "        if n%2==0:\n",
        "            return sum(n-1) + 1.0/n\n",
        "        else:\n",
        "            return sum(n-1) - 1.0/n\n",
        "\n",
        "print(sum(6))"
      ]
    },
    {
      "cell_type": "code",
      "execution_count": 4,
      "metadata": {
        "id": "RBEQLb1mHHwt"
      },
      "outputs": [
        {
          "name": "stdout",
          "output_type": "stream",
          "text": [
            "1.2166666666666668\n"
          ]
        }
      ],
      "source": [
        "# Answer\n",
        "def seriesSum(n):\n",
        "    if n == 1:\n",
        "        return 1.0\n",
        "    if n % 2 == 0:\n",
        "        #even\n",
        "        return seriesSum(n-1) + 1.0/n\n",
        "    else:\n",
        "        # odd\n",
        "        return seriesSum(n-1) - 1.0/n\n",
        "    \n",
        "\n",
        "        \n",
        "    \n",
        "print(seriesSum(5))"
      ]
    },
    {
      "cell_type": "markdown",
      "metadata": {
        "id": "JapZn1S2U8S_"
      },
      "source": [
        "### Question 3\n",
        "\n",
        "Write a recursive function GCD(n,m) that returns the greatest common divisor of two integer n and m accordingto the following definition (recurrence relation):\n",
        "\n",
        "GCD(n,m) = { m, if m <= n and n mod m = 0 { GCD(m,n), if n < m { GCD(m, n mod m), otherwise\n",
        "\n",
        "Example:\n",
        "\n",
        "Enter the first number: 54\n",
        "\n",
        "Enter the second number: 24\n",
        "\n",
        "The GCD of 54 and 24 is 6"
      ]
    },
    {
      "cell_type": "code",
      "execution_count": 4,
      "metadata": {},
      "outputs": [
        {
          "data": {
            "text/plain": [
              "6"
            ]
          },
          "execution_count": 4,
          "metadata": {},
          "output_type": "execute_result"
        }
      ],
      "source": [
        "def gcd(n,m):\n",
        "    if n % m == 0:\n",
        "        return m\n",
        "    else:\n",
        "        return gcd(m, n%m)\n",
        "gcd(54,24)"
      ]
    },
    {
      "cell_type": "code",
      "execution_count": 5,
      "metadata": {},
      "outputs": [
        {
          "name": "stdout",
          "output_type": "stream",
          "text": [
            "3\n"
          ]
        }
      ],
      "source": [
        "# Answer\n",
        "def gcd(n,m):\n",
        "    if n % m == 0:\n",
        "        return m\n",
        "    return gcd(m,n % m)\n",
        "\n",
        "print(gcd(123,36))"
      ]
    },
    {
      "cell_type": "markdown",
      "metadata": {
        "id": "MnMVyur-VbqY"
      },
      "source": [
        "### Question 4\n",
        "\n",
        "Check recursively if the following objects are palindromes:1. a word2. a sentence (ignoring blanks, lower caseand upper case differences, and punctuation marks, so that “Madam, I’m Adam” is accepted as a palindrome)\n",
        "\n",
        "Example: Please enter a sentence: Madam, I'm Adam Checking if \"Madam, I'm Adam\" is a palindrome: True"
      ]
    },
    {
      "cell_type": "code",
      "execution_count": 43,
      "metadata": {},
      "outputs": [
        {
          "name": "stdout",
          "output_type": "stream",
          "text": [
            "True\n"
          ]
        }
      ],
      "source": [
        "# Answer\n",
        "def check(s):\n",
        "    cleanedSentence = cleanup(s)\n",
        "    if len(cleanedSentence) < 2:\n",
        "        return True\n",
        "    if cleanedSentence[0] != cleanedSentence[-1]:\n",
        "        return False\n",
        "    return check(cleanedSentence[1:-1])\n",
        "\n",
        "def cleanup(s):\n",
        "    filteredInput = \"\"\n",
        "    for char in s:\n",
        "        if char.isalpha():\n",
        "            filteredInput += char.lower()\n",
        "    return filteredInput\n",
        "\n",
        "print(check(\"Able was I ere I saw Elba\"))"
      ]
    },
    {
      "cell_type": "markdown",
      "metadata": {
        "id": "O3ncVABJVjG_"
      },
      "source": [
        "### Question 5\n",
        "\n",
        "Solve the Tower of Hanoi problem recursively.Here is a high-level outline of how to move a tower from thestarting pole, to the goal pole, using an intermediate pole:1. Move a tower of height-1 to an intermediate pole,using the final pole.2. Move the remaining disk to the final pole.3. Move the tower of height-1 from theintermediate pole to the final pole using the original pole. As long as you always obey the rule that the largerdisks remain on the bottom of the stack, you can use the three steps above recursively, treating any larger disksas though they were not even there. Identify the base case and implement the solution.\n",
        "\n",
        "Example: Enter the number of disks: 3 ('moving disk from', 'A', 'to', 'B') ('moving disk from', 'A', 'to', 'C') ('movingdisk from', 'B', 'to', 'C') ('moving disk from', 'A', 'to', 'B') ('moving disk from', 'C', 'to', 'A') ('moving disk from', 'C', 'to','B') ('moving disk from', 'A', 'to', 'B')"
      ]
    },
    {
      "cell_type": "code",
      "execution_count": 2,
      "metadata": {
        "id": "qEndZ5R2Ucjg"
      },
      "outputs": [
        {
          "name": "stdout",
          "output_type": "stream",
          "text": [
            "move disc from X  to  Y\n",
            "move disc from X  to  Z\n",
            "move disc from Y  to  Z\n",
            "move disc from X  to  Y\n",
            "move disc from Z  to  X\n",
            "move disc from Z  to  Y\n",
            "move disc from X  to  Y\n"
          ]
        }
      ],
      "source": [
        "# Solution\n",
        "def moveTower(height, fromPole, toPole, withPole):\n",
        "    if height < 1:\n",
        "        return\n",
        "    moveTower(height-1, fromPole, withPole, toPole)\n",
        "    print(\"move disc from\", fromPole, \" to \", toPole)\n",
        "    moveTower(height-1, withPole, toPole, fromPole)\n",
        "\n",
        "moveTower(3, \"X\", \"Y\", \"Z\")"
      ]
    }
  ],
  "metadata": {
    "colab": {
      "name": "ICT1008 Tutorial 04.ipynb",
      "provenance": []
    },
    "kernelspec": {
      "display_name": "Python 3",
      "name": "python3"
    },
    "language_info": {
      "codemirror_mode": {
        "name": "ipython",
        "version": 3
      },
      "file_extension": ".py",
      "mimetype": "text/x-python",
      "name": "python",
      "nbconvert_exporter": "python",
      "pygments_lexer": "ipython3",
      "version": "3.9.10"
    }
  },
  "nbformat": 4,
  "nbformat_minor": 0
}
