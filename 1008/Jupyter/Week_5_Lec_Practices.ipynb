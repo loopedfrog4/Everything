{
 "cells": [
  {
   "cell_type": "code",
   "execution_count": 9,
   "metadata": {},
   "outputs": [
    {
     "name": "stdout",
     "output_type": "stream",
     "text": [
      "Element 100 is found at Index: -1\n"
     ]
    }
   ],
   "source": [
    "# Binary Search\n",
    "array = [6,13,14,25,33,43,51,53,64,72]\n",
    "\n",
    "def biSearch(a,lo,hi,key):\n",
    "    mid = (int)((lo + hi)/2)\n",
    "    if lo > hi: return -1\n",
    "    if a[mid] > key:\n",
    "        return biSearch(a,lo,mid-1,key)\n",
    "    elif a[mid] < key:\n",
    "        return biSearch(a,mid+1,hi,key)\n",
    "    return mid\n",
    "\n",
    "toFind = 100\n",
    "\n",
    "print(f\"Element {toFind} is found at Index: {biSearch(array,0,len(array)-1,toFind)}\")"
   ]
  },
  {
   "cell_type": "code",
   "execution_count": 10,
   "metadata": {},
   "outputs": [
    {
     "name": "stdout",
     "output_type": "stream",
     "text": [
      "16\n"
     ]
    }
   ],
   "source": [
    "# Power function\n",
    "def power(a,n):\n",
    "    answer = 1\n",
    "    for i in range(n):\n",
    "        answer *= a\n",
    "    return answer\n",
    "\n",
    "print(power(2,4))"
   ]
  },
  {
   "cell_type": "code",
   "execution_count": 2,
   "metadata": {},
   "outputs": [
    {
     "name": "stdout",
     "output_type": "stream",
     "text": [
      "32\n"
     ]
    }
   ],
   "source": [
    "# Find a to power of n recursively: O(lg n)\n",
    "def recursive_power(a,n):\n",
    "    if n==0:\n",
    "        return 1\n",
    "    temp_answer = recursive_power(a, (int) (n/2))\n",
    "    \n",
    "    if n % 2 == 0:\n",
    "        return temp_answer * temp_answer\n",
    "    else:\n",
    "        return temp_answer * temp_answer * a\n",
    "\n",
    "print(recursive_power(2,5))"
   ]
  }
 ],
 "metadata": {
  "interpreter": {
   "hash": "e94778876cb88ae73a7f3c122c803f8466cab158653a0e2aebc19ed0ec18e69a"
  },
  "kernelspec": {
   "display_name": "Python 3.9.10 64-bit (windows store)",
   "language": "python",
   "name": "python3"
  },
  "language_info": {
   "codemirror_mode": {
    "name": "ipython",
    "version": 3
   },
   "file_extension": ".py",
   "mimetype": "text/x-python",
   "name": "python",
   "nbconvert_exporter": "python",
   "pygments_lexer": "ipython3",
   "version": "3.9.10"
  },
  "orig_nbformat": 4
 },
 "nbformat": 4,
 "nbformat_minor": 2
}
