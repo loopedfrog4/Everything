{
 "cells": [
  {
   "cell_type": "code",
   "execution_count": 24,
   "metadata": {},
   "outputs": [
    {
     "name": "stdout",
     "output_type": "stream",
     "text": [
      "1\n",
      "16.637378931045532\n"
     ]
    }
   ],
   "source": [
    "import time\n",
    "\n",
    "start = time.time()\n",
    "\n",
    "\n",
    "input().split()\n",
    "arr_input = [int(x) for x in input().split()]\n",
    "setA = [int(x) for x in set(input().split())]\n",
    "setB = [int(x) for x in set(input().split())]\n",
    "\n",
    "happiness = 0\n",
    "\n",
    "for ele in arr_input:\n",
    "    if ele in setA:\n",
    "        happiness += 1\n",
    "    if ele in setB:\n",
    "        happiness -= 1\n",
    "print(happiness)\n",
    "\n",
    "end = time.time()\n",
    "print(end - start)\n",
    "\n",
    "\n",
    "\n"
   ]
  }
 ],
 "metadata": {
  "interpreter": {
   "hash": "e94778876cb88ae73a7f3c122c803f8466cab158653a0e2aebc19ed0ec18e69a"
  },
  "kernelspec": {
   "display_name": "Python 3.9.10 64-bit (windows store)",
   "language": "python",
   "name": "python3"
  },
  "language_info": {
   "codemirror_mode": {
    "name": "ipython",
    "version": 3
   },
   "file_extension": ".py",
   "mimetype": "text/x-python",
   "name": "python",
   "nbconvert_exporter": "python",
   "pygments_lexer": "ipython3",
   "version": "3.9.10"
  },
  "orig_nbformat": 4
 },
 "nbformat": 4,
 "nbformat_minor": 2
}
