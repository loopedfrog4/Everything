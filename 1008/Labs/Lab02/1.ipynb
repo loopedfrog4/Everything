{
 "cells": [
  {
   "cell_type": "code",
   "execution_count": 19,
   "metadata": {},
   "outputs": [
    {
     "name": "stdout",
     "output_type": "stream",
     "text": [
      "True\n"
     ]
    }
   ],
   "source": [
    "def is_leap(year):\n",
    "    # Checking if the given year is leap year  \n",
    "    if((year % 400 == 0) or  (year % 100 != 0) and  (year % 4 == 0)):   \n",
    "        return True\n",
    "    # Else it is not a leap year  \n",
    "    else:  \n",
    "        return False\n",
    "    \n",
    "\n",
    "year = int(input())\n",
    "print(is_leap(year))"
   ]
  }
 ],
 "metadata": {
  "interpreter": {
   "hash": "e94778876cb88ae73a7f3c122c803f8466cab158653a0e2aebc19ed0ec18e69a"
  },
  "kernelspec": {
   "display_name": "Python 3.9.10 64-bit (windows store)",
   "language": "python",
   "name": "python3"
  },
  "language_info": {
   "codemirror_mode": {
    "name": "ipython",
    "version": 3
   },
   "file_extension": ".py",
   "mimetype": "text/x-python",
   "name": "python",
   "nbconvert_exporter": "python",
   "pygments_lexer": "ipython3",
   "version": "3.9.10"
  },
  "orig_nbformat": 4
 },
 "nbformat": 4,
 "nbformat_minor": 2
}
