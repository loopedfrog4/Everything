{
 "cells": [
  {
   "cell_type": "code",
   "execution_count": 20,
   "metadata": {},
   "outputs": [
    {
     "name": "stdout",
     "output_type": "stream",
     "text": [
      "('Ted', 'March 1234')\n"
     ]
    }
   ],
   "source": [
    "# done and correct\n",
    "# hash table with chaining (tuple implementation)\n",
    "class HashTable:\n",
    "    def __init__(self):\n",
    "        self.Max = 11\n",
    "        self.arr = [[] for i in range(self.Max)]\n",
    "\n",
    "    def get_hash(self,key):\n",
    "        hash = 0\n",
    "        for ch in key:\n",
    "            val = ord(ch)\n",
    "            hash += val\n",
    "        return hash % self.Max\n",
    "\n",
    "    def set_item(self,key,value):\n",
    "        index = self.get_hash(key)\n",
    "        found = False\n",
    "        for idx, element in enumerate(self.arr[index]):\n",
    "            if len(element) == 2 and element[0] == key:\n",
    "                self.arr[index].append((key,value))\n",
    "                found = True\n",
    "                break\n",
    "        if not found:\n",
    "            self.arr[index].append((key,value))\n",
    "    def get_item(self,key,value):\n",
    "        index = self.get_hash(key)\n",
    "        if len(self.arr[index]) == 1:\n",
    "            if self.arr[index][0][0] == key:\n",
    "                temp = self.arr[index][0].pop()\n",
    "                return temp\n",
    "        for idx, element in enumerate(self.arr[index]):\n",
    "            if len(element) == 2 and element[0] == key and element[1] == value:\n",
    "                return self.arr[index][idx]\n",
    "\n",
    "    \n",
    " \n",
    "table = HashTable()\n",
    "table.set_item(\"Ada\", \"March 7\")\n",
    "\n",
    "table.set_item(\"Ted\", \"March 18\")\n",
    "table.set_item(\"Ted\", \"March 3\")\n",
    "table.set_item(\"Ted\", \"March 5634\")\n",
    "table.set_item(\"Ted\", \"March 1234\")\n",
    "table.set_item(\"Ada\", \"March 23\")\n",
    "table.set_item(\"Ada\", \"March 2\")\n",
    "print(table.get_item(\"Ted\", \"March 1234\"))\n",
    "x = 1\n",
    "\n"
   ]
  },
  {
   "cell_type": "code",
   "execution_count": 21,
   "metadata": {},
   "outputs": [
    {
     "name": "stdout",
     "output_type": "stream",
     "text": [
      "None\n"
     ]
    }
   ],
   "source": [
    "# hash table opening addressing with linear probing\n",
    "class HashTable:\n",
    "    def __init__(self):\n",
    "        self.Max = 11\n",
    "        self.arr = [None for i in range(self.Max)]\n",
    "\n",
    "    def get_hash(self,key):\n",
    "        hash = 0\n",
    "        for ch in key:\n",
    "            val = ord(ch)\n",
    "            hash += val\n",
    "        return hash % self.Max\n",
    "\n",
    "    def set_item(self,key,value):\n",
    "        index = self.get_hash(key)\n",
    "        \n",
    "    def get_item(self,key,value):\n",
    "        index = self.get_hash(key)\n",
    "        \n",
    "    \n",
    " \n",
    "table = HashTable()\n",
    "table.set_item(\"Ada\", \"March 7\")\n",
    "\n",
    "table.set_item(\"Ted\", \"March 18\")\n",
    "table.set_item(\"Ted\", \"March 3\")\n",
    "table.set_item(\"Ted\", \"March 5634\")\n",
    "table.set_item(\"Ted\", \"March 1234\")\n",
    "table.set_item(\"Ada\", \"March 23\")\n",
    "table.set_item(\"Ada\", \"March 2\")\n",
    "print(table.get_item(\"Ted\", \"March 1234\"))\n",
    "x = 1"
   ]
  }
 ],
 "metadata": {
  "interpreter": {
   "hash": "e94778876cb88ae73a7f3c122c803f8466cab158653a0e2aebc19ed0ec18e69a"
  },
  "kernelspec": {
   "display_name": "Python 3.9.10 64-bit (windows store)",
   "language": "python",
   "name": "python3"
  },
  "language_info": {
   "codemirror_mode": {
    "name": "ipython",
    "version": 3
   },
   "file_extension": ".py",
   "mimetype": "text/x-python",
   "name": "python",
   "nbconvert_exporter": "python",
   "pygments_lexer": "ipython3",
   "version": "3.9.10"
  },
  "orig_nbformat": 4
 },
 "nbformat": 4,
 "nbformat_minor": 2
}
