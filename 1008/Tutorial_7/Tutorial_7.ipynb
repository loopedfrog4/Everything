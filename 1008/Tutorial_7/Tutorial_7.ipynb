{
 "cells": [
  {
   "cell_type": "code",
   "execution_count": null,
   "metadata": {},
   "outputs": [],
   "source": [
    "# Q2 iterative binary search\n"
   ]
  },
  {
   "cell_type": "code",
   "execution_count": 4,
   "metadata": {},
   "outputs": [
    {
     "name": "stdout",
     "output_type": "stream",
     "text": [
      "59.0\n",
      "997.0\n",
      "13747.0\n"
     ]
    }
   ],
   "source": [
    "# Q3\n",
    "from math import log\n",
    "\n",
    "def find(x):\n",
    "    i = 2.0\n",
    "    while True:\n",
    "        if (i * log(2) / log(i)) > x:\n",
    "            return i\n",
    "        i += 1\n",
    "\n",
    "print(find(10))\n",
    "print(find(100))\n",
    "print(find(1000))\n"
   ]
  },
  {
   "cell_type": "code",
   "execution_count": 1,
   "metadata": {},
   "outputs": [
    {
     "data": {
      "text/plain": [
       "66612.5"
      ]
     },
     "execution_count": 1,
     "metadata": {},
     "output_type": "execute_result"
    }
   ],
   "source": [
    "# Q4\n",
    "\n",
    "def findNumberOfPersons(probability):\n",
    "    x = 0.5 / ((1/365) * (1/365))\n",
    "    return x\n",
    "\n",
    "findNumberOfPersons(0.5)"
   ]
  },
  {
   "cell_type": "code",
   "execution_count": 5,
   "metadata": {},
   "outputs": [
    {
     "name": "stdout",
     "output_type": "stream",
     "text": [
      "8\n",
      "2\n",
      "7\n",
      "7\n",
      "7\n",
      "2\n",
      "6\n",
      "8\n",
      "12\n",
      "8\n"
     ]
    }
   ],
   "source": [
    "# Q5\n",
    "def hash_function(x,list):\n",
    "    return x % 13\n",
    "list = [8,2,7,20,33,15,19,34,12,21]\n",
    "\n",
    "for i in range(len(list)):\n",
    "    print(hash_function(list[i],list))"
   ]
  },
  {
   "cell_type": "code",
   "execution_count": null,
   "metadata": {},
   "outputs": [],
   "source": []
  },
  {
   "cell_type": "code",
   "execution_count": null,
   "metadata": {},
   "outputs": [],
   "source": []
  },
  {
   "cell_type": "code",
   "execution_count": null,
   "metadata": {},
   "outputs": [],
   "source": []
  },
  {
   "cell_type": "code",
   "execution_count": null,
   "metadata": {},
   "outputs": [],
   "source": []
  },
  {
   "cell_type": "code",
   "execution_count": null,
   "metadata": {},
   "outputs": [],
   "source": [
    "# Q4\n"
   ]
  }
 ],
 "metadata": {
  "interpreter": {
   "hash": "1ed319836ded4a00fef6ab305cca18a2bc1d1c28f497138e016289a7efb9d0e5"
  },
  "kernelspec": {
   "display_name": "Python 3.10.2 64-bit",
   "language": "python",
   "name": "python3"
  },
  "language_info": {
   "codemirror_mode": {
    "name": "ipython",
    "version": 3
   },
   "file_extension": ".py",
   "mimetype": "text/x-python",
   "name": "python",
   "nbconvert_exporter": "python",
   "pygments_lexer": "ipython3",
   "version": "3.10.2"
  },
  "orig_nbformat": 4
 },
 "nbformat": 4,
 "nbformat_minor": 2
}
